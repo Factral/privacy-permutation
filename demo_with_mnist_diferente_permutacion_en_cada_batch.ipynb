{
  "cells": [
    {
      "cell_type": "code",
      "execution_count": null,
      "metadata": {
        "colab": {
          "base_uri": "https://localhost:8080/"
        },
        "id": "pQgsycmRgTn_",
        "outputId": "1f68e62c-faf3-48e3-f764-1306910cccd0"
      },
      "outputs": [
        {
          "name": "stdout",
          "output_type": "stream",
          "text": [
            "Mounted at /content/drive\n"
          ]
        }
      ],
      "source": [
        "from google.colab import drive\n",
        "drive.mount('/content/drive')\n",
        "\n",
        "import os\n",
        "os.chdir('/content/drive/My Drive/privacy_permutation/')"
      ]
    },
    {
      "cell_type": "code",
      "execution_count": null,
      "metadata": {
        "colab": {
          "base_uri": "https://localhost:8080/"
        },
        "id": "nlGaF1xWwhoO",
        "outputId": "15c3c9b7-2122-4d7d-a1ad-880bf0ee7acb"
      },
      "outputs": [
        {
          "name": "stderr",
          "output_type": "stream",
          "text": [
            "<ipython-input-2-d675b14681c7>:15: DeprecationWarning: `set_matplotlib_formats` is deprecated since IPython 7.23, directly use `matplotlib_inline.backend_inline.set_matplotlib_formats()`\n",
            "  display.set_matplotlib_formats('svg')\n"
          ]
        }
      ],
      "source": [
        "import numpy as np\n",
        "\n",
        "import torch\n",
        "import torch.nn as nn\n",
        "import torch.nn.functional as F\n",
        "\n",
        "import torchvision\n",
        "import torchvision.transforms as T\n",
        "from torch.utils.data import DataLoader,Subset\n",
        "\n",
        "from torchsummary import summary\n",
        "\n",
        "import matplotlib.pyplot as plt\n",
        "from IPython import display\n",
        "display.set_matplotlib_formats('svg')\n",
        "\n",
        "import scipy.signal as signal\n",
        "\n",
        "import utils\n",
        "\n",
        "# %matplotlib widget\n",
        "%matplotlib notebook\n",
        "%matplotlib inline"
      ]
    },
    {
      "cell_type": "code",
      "execution_count": null,
      "metadata": {
        "id": "ciYRFPk0wwY2"
      },
      "outputs": [],
      "source": [
        "# use GPU if available\n",
        "device = torch.device('cuda:0' if torch.cuda.is_available() else 'cpu')"
      ]
    },
    {
      "cell_type": "code",
      "execution_count": null,
      "metadata": {
        "id": "qEI6G0p0wjcU"
      },
      "outputs": [],
      "source": [
        "utils.setup_seed(1312)"
      ]
    },
    {
      "cell_type": "code",
      "execution_count": null,
      "metadata": {
        "colab": {
          "base_uri": "https://localhost:8080/"
        },
        "id": "TScN0IQq_QQ_",
        "outputId": "a7a6ab79-4781-4827-9574-74d7cfd80fbf"
      },
      "outputs": [
        {
          "data": {
            "text/plain": [
              "array([608, 275, 171, ..., 791, 176,  81])"
            ]
          },
          "execution_count": 5,
          "metadata": {},
          "output_type": "execute_result"
        }
      ],
      "source": [
        "img_size = 33\n",
        "\n",
        "test = utils.Permutar(img_size, 1)\n",
        "test.key"
      ]
    },
    {
      "attachments": {},
      "cell_type": "markdown",
      "metadata": {
        "id": "lgxg9Xd6gdzy"
      },
      "source": [
        "dataloader"
      ]
    },
    {
      "cell_type": "code",
      "execution_count": null,
      "metadata": {
        "id": "YL6Bg6HK_NzX"
      },
      "outputs": [],
      "source": [
        "from torchvision import datasets, transforms\n",
        "\n",
        "# Define a transform to normalize the data\n",
        "transform=transforms.Compose([\n",
        "    T.Resize((33,33)),\n",
        "    T.ToTensor(),\n",
        "    T.Normalize((0.1307,), (0.3081,))\n",
        "    ])\n",
        "\n",
        "trainset = datasets.FashionMNIST(root='data', train=True, download=True, transform=transform,)\n",
        "testset = datasets.FashionMNIST(root='data',\n",
        "                                train=False, download=True, transform=transform)\n",
        "\n",
        "fake_loader = torch.utils.data.DataLoader(trainset, batch_size=64, shuffle=False, drop_last=True)\n",
        "r = list(fake_loader)\n",
        "\n",
        "images = torch.tensor([])\n",
        "labels = torch.tensor([])\n",
        "\n",
        "for i,a in enumerate(r):\n",
        "  test = utils.Permutar(33,1)\n",
        "  image_batch = test.desordenar(a[0])\n",
        "  images = torch.cat((images, image_batch)) if images.shape[0] > 1 else image_batch\n",
        "  labels = torch.cat((labels, a[1])) if labels.shape[0] > 1 else a[1]\n",
        "\n",
        "\n",
        "trainset_disorderly = torch.utils.data.TensorDataset(images,labels)\n",
        "\n",
        "train_loader = torch.utils.data.DataLoader(trainset_disorderly, batch_size=64, drop_last=True, shuffle=True)\n",
        "test_loader = torch.utils.data.DataLoader(testset, batch_size=64, shuffle=False, drop_last=True)"
      ]
    },
    {
      "cell_type": "code",
      "execution_count": null,
      "metadata": {
        "colab": {
          "base_uri": "https://localhost:8080/",
          "height": 524
        },
        "id": "9haZ5s7W_SCm",
        "outputId": "7c4b06d6-e3f8-4237-d93f-af64752ed6cd"
      },
      "outputs": [
        {
          "data": {
            "image/png": "[encoded data removed]",
            "text/plain": [
              "<Figure size 1000x1000 with 2 Axes>"
            ]
          },
          "metadata": {},
          "output_type": "display_data"
        }
      ],
      "source": [
        "a = next(iter(train_loader))\n",
        "X,y = [a[0][0], a[1][0]]\n",
        "fig,axs = plt.subplots(1,2,figsize=(10,10))\n",
        "\n",
        "pic = X.data.cpu().numpy().transpose((1,2,0))\n",
        "pic = pic-np.min(pic) # undo normalization\n",
        "pic = pic/np.max(pic)\n",
        "\n",
        "label = testset.classes[y]\n",
        "\n",
        "axs[0].imshow(pic)\n",
        "axs[0].text(0,0,f'{label} desordenado',ha='left',va='top',fontweight='bold',color='k',backgroundcolor='y')\n",
        "\n",
        "plt.axis('off')\n",
        "\n",
        "plt.tight_layout()\n",
        "plt.show()"
      ]
    },
    {
      "attachments": {},
      "cell_type": "markdown",
      "metadata": {
        "id": "T5rCh6iG8-oC"
      },
      "source": [
        "### network"
      ]
    },
    {
      "cell_type": "code",
      "execution_count": null,
      "metadata": {
        "id": "GHfKD0kOwkUa"
      },
      "outputs": [],
      "source": [
        "from permuted_newtork import PermutedNetwork_2 as PermutedNetwork\n",
        "\n",
        "model = PermutedNetwork().to(device)"
      ]
    },
    {
      "cell_type": "code",
      "execution_count": null,
      "metadata": {
        "id": "Z0rRpSqR2kX8"
      },
      "outputs": [],
      "source": [
        "#model.load_state_dict(torch.load('model_weights.pth'), strict=False)"
      ]
    },
    {
      "cell_type": "code",
      "execution_count": null,
      "metadata": {
        "colab": {
          "base_uri": "https://localhost:8080/"
        },
        "id": "5ASbG1g3-QIU",
        "outputId": "fe3fb7ca-92f7-4faa-b147-d936428cedd7"
      },
      "outputs": [
        {
          "name": "stdout",
          "output_type": "stream",
          "text": [
            "----------------------------------------------------------------\n",
            "        Layer (type)               Output Shape         Param #\n",
            "================================================================\n",
            "            Conv2d-1           [-1, 18, 33, 33]             180\n",
            "      DeformConv2d-2           [-1, 16, 33, 33]             160\n",
            "         MaxPool2d-3           [-1, 16, 16, 16]               0\n",
            "            Conv2d-4           [-1, 18, 16, 16]           2,610\n",
            "      DeformConv2d-5           [-1, 32, 16, 16]           4,640\n",
            "         MaxPool2d-6             [-1, 32, 8, 8]               0\n",
            "            Conv2d-7             [-1, 18, 8, 8]           5,202\n",
            "      DeformConv2d-8             [-1, 16, 8, 8]           4,624\n",
            " AdaptiveAvgPool2d-9             [-1, 16, 1, 1]               0\n",
            "           Linear-10                   [-1, 10]             170\n",
            "================================================================\n",
            "Total params: 17,586\n",
            "Trainable params: 17,586\n",
            "Non-trainable params: 0\n",
            "----------------------------------------------------------------\n",
            "Input size (MB): 0.00\n",
            "Forward/backward pass size (MB): 0.44\n",
            "Params size (MB): 0.07\n",
            "Estimated Total Size (MB): 0.52\n",
            "----------------------------------------------------------------\n"
          ]
        }
      ],
      "source": [
        "summary(model, (1, 33, 33))"
      ]
    },
    {
      "cell_type": "code",
      "execution_count": null,
      "metadata": {
        "id": "Tx0fOyBzPInB"
      },
      "outputs": [],
      "source": [
        "#model.conv1.requires_grad_(False)\n",
        "#model.conv2.requires_grad_(False)\n",
        "#model.conv3.requires_grad_(False)\n",
        "#model.conv4.requires_grad_(False)\n",
        "#model.conv5.requires_grad_(False)\n",
        "#model.conv6.requires_grad_(False)"
      ]
    },
    {
      "cell_type": "code",
      "execution_count": null,
      "metadata": {
        "id": "o9PH4FbK-Rcr"
      },
      "outputs": [],
      "source": [
        "# Define the loss\n",
        "criterion = nn.CrossEntropyLoss()\n",
        "optimizer = torch.optim.Adam(model.parameters(), lr=0.001)"
      ]
    },
    {
      "cell_type": "code",
      "execution_count": null,
      "metadata": {
        "colab": {
          "base_uri": "https://localhost:8080/"
        },
        "id": "nWwTtEV1wmt-",
        "outputId": "41c77238-42a0-4b73-dee1-d74b21b53cc8"
      },
      "outputs": [
        {
          "name": "stdout",
          "output_type": "stream",
          "text": [
            "Epoch 1/50 Test Loss: 4.318 Test Acc: 0.121, Train Loss: 1.668 Train Acc: 0.337\n",
            "Epoch 2/50 Test Loss: 3.947 Test Acc: 0.122, Train Loss: 1.649 Train Acc: 0.341\n",
            "Epoch 3/50 Test Loss: 4.177 Test Acc: 0.119, Train Loss: 1.639 Train Acc: 0.346\n",
            "Epoch 4/50 Test Loss: 4.153 Test Acc: 0.101, Train Loss: 1.634 Train Acc: 0.347\n",
            "Epoch 5/50 Test Loss: 4.106 Test Acc: 0.116, Train Loss: 1.629 Train Acc: 0.347\n",
            "Epoch 6/50 Test Loss: 3.898 Test Acc: 0.123, Train Loss: 1.623 Train Acc: 0.349\n",
            "Epoch 7/50 Test Loss: 3.659 Test Acc: 0.106, Train Loss: 1.616 Train Acc: 0.353\n",
            "Epoch 8/50 Test Loss: 3.506 Test Acc: 0.114, Train Loss: 1.612 Train Acc: 0.354\n",
            "Epoch 9/50 Test Loss: 3.112 Test Acc: 0.123, Train Loss: 1.606 Train Acc: 0.356\n",
            "Epoch 10/50 Test Loss: 3.376 Test Acc: 0.124, Train Loss: 1.598 Train Acc: 0.362\n",
            "Epoch 11/50 Test Loss: 3.608 Test Acc: 0.116, Train Loss: 1.593 Train Acc: 0.365\n",
            "Epoch 12/50 Test Loss: 3.304 Test Acc: 0.120, Train Loss: 1.583 Train Acc: 0.371\n",
            "Epoch 13/50 Test Loss: 2.899 Test Acc: 0.117, Train Loss: 1.574 Train Acc: 0.379\n",
            "Epoch 14/50 Test Loss: 3.331 Test Acc: 0.111, Train Loss: 1.566 Train Acc: 0.386\n",
            "Epoch 15/50 Test Loss: 2.948 Test Acc: 0.116, Train Loss: 1.562 Train Acc: 0.388\n",
            "Epoch 16/50 Test Loss: 3.411 Test Acc: 0.117, Train Loss: 1.555 Train Acc: 0.393\n",
            "Epoch 17/50 Test Loss: 2.984 Test Acc: 0.104, Train Loss: 1.551 Train Acc: 0.395\n",
            "Epoch 18/50 Test Loss: 3.085 Test Acc: 0.116, Train Loss: 1.546 Train Acc: 0.397\n",
            "Epoch 19/50 Test Loss: 3.040 Test Acc: 0.111, Train Loss: 1.540 Train Acc: 0.401\n",
            "Epoch 20/50 Test Loss: 2.913 Test Acc: 0.101, Train Loss: 1.537 Train Acc: 0.403\n",
            "Epoch 21/50 Test Loss: 2.972 Test Acc: 0.110, Train Loss: 1.532 Train Acc: 0.402\n",
            "Epoch 22/50 Test Loss: 3.007 Test Acc: 0.118, Train Loss: 1.528 Train Acc: 0.407\n",
            "Epoch 23/50 Test Loss: 2.834 Test Acc: 0.151, Train Loss: 1.526 Train Acc: 0.408\n",
            "Epoch 24/50 Test Loss: 2.651 Test Acc: 0.145, Train Loss: 1.521 Train Acc: 0.411\n",
            "Epoch 25/50 Test Loss: 2.696 Test Acc: 0.128, Train Loss: 1.516 Train Acc: 0.413\n",
            "Epoch 26/50 Test Loss: 2.729 Test Acc: 0.144, Train Loss: 1.515 Train Acc: 0.414\n",
            "Epoch 27/50 Test Loss: 2.764 Test Acc: 0.115, Train Loss: 1.512 Train Acc: 0.416\n",
            "Epoch 28/50 Test Loss: 2.814 Test Acc: 0.107, Train Loss: 1.504 Train Acc: 0.420\n",
            "Epoch 29/50 Test Loss: 2.900 Test Acc: 0.112, Train Loss: 1.502 Train Acc: 0.421\n",
            "Epoch 30/50 Test Loss: 2.721 Test Acc: 0.120, Train Loss: 1.500 Train Acc: 0.422\n",
            "Epoch 31/50 Test Loss: 2.799 Test Acc: 0.138, Train Loss: 1.497 Train Acc: 0.423\n",
            "Epoch 32/50 Test Loss: 2.615 Test Acc: 0.157, Train Loss: 1.494 Train Acc: 0.423\n",
            "Epoch 33/50 Test Loss: 2.658 Test Acc: 0.126, Train Loss: 1.491 Train Acc: 0.426\n",
            "Epoch 34/50 Test Loss: 2.649 Test Acc: 0.111, Train Loss: 1.486 Train Acc: 0.428\n",
            "Epoch 35/50 Test Loss: 2.620 Test Acc: 0.140, Train Loss: 1.484 Train Acc: 0.429\n",
            "Epoch 36/50 Test Loss: 2.755 Test Acc: 0.116, Train Loss: 1.482 Train Acc: 0.430\n",
            "Epoch 37/50 Test Loss: 2.716 Test Acc: 0.121, Train Loss: 1.479 Train Acc: 0.432\n",
            "Epoch 38/50 Test Loss: 2.956 Test Acc: 0.106, Train Loss: 1.477 Train Acc: 0.432\n",
            "Epoch 39/50 Test Loss: 2.723 Test Acc: 0.121, Train Loss: 1.475 Train Acc: 0.433\n",
            "Epoch 40/50 Test Loss: 2.746 Test Acc: 0.118, Train Loss: 1.474 Train Acc: 0.437\n",
            "Epoch 41/50 Test Loss: 2.520 Test Acc: 0.173, Train Loss: 1.472 Train Acc: 0.437\n",
            "Epoch 42/50 Test Loss: 2.518 Test Acc: 0.143, Train Loss: 1.469 Train Acc: 0.437\n",
            "Epoch 43/50 Test Loss: 2.650 Test Acc: 0.117, Train Loss: 1.467 Train Acc: 0.438\n",
            "Epoch 44/50 Test Loss: 2.549 Test Acc: 0.151, Train Loss: 1.465 Train Acc: 0.439\n",
            "Epoch 45/50 Test Loss: 2.449 Test Acc: 0.178, Train Loss: 1.463 Train Acc: 0.439\n",
            "Epoch 46/50 Test Loss: 2.425 Test Acc: 0.163, Train Loss: 1.463 Train Acc: 0.439\n",
            "Epoch 47/50 Test Loss: 2.661 Test Acc: 0.127, Train Loss: 1.459 Train Acc: 0.443\n",
            "Epoch 48/50 Test Loss: 2.586 Test Acc: 0.140, Train Loss: 1.456 Train Acc: 0.442\n",
            "Epoch 49/50 Test Loss: 2.441 Test Acc: 0.176, Train Loss: 1.455 Train Acc: 0.445\n",
            "Epoch 50/50 Test Loss: 2.438 Test Acc: 0.186, Train Loss: 1.456 Train Acc: 0.443\n"
          ]
        }
      ],
      "source": [
        "\n",
        "\n",
        "# Train the network\n",
        "epochs = 50\n",
        "\n",
        "trainLoss = torch.zeros(epochs)\n",
        "testLoss  = torch.zeros(epochs)\n",
        "trainAcc  = torch.zeros(epochs)\n",
        "testAcc   = torch.zeros(epochs)\n",
        "\n",
        "for e in range(epochs):\n",
        "    model.train()\n",
        "    batchLoss = []\n",
        "    batchAcc  = []\n",
        "    for images, labels in train_loader:\n",
        "        images = images.to(device)\n",
        "        labels = labels.to(device)\n",
        "\n",
        "        output = model(images)\n",
        "        loss = criterion(output, labels)\n",
        "\n",
        "        optimizer.zero_grad()\n",
        "        loss.backward()\n",
        "        optimizer.step()\n",
        "\n",
        "        batchLoss.append(loss.item())\n",
        "        batchAcc.append((output.argmax(dim=1) == labels).type(torch.float).mean())\n",
        "\n",
        "    trainLoss[e] = torch.tensor(batchLoss).mean()\n",
        "    trainAcc[e]  = torch.tensor(batchAcc).mean()\n",
        "\n",
        "    model.eval()\n",
        "    batchLoss = []\n",
        "    batchAcc  = []\n",
        "\n",
        "    with torch.no_grad():\n",
        "        for images, labels in test_loader:\n",
        "            images = images.to(device) #test.desordenar(images).to(device)\n",
        "            labels = labels.to(device)\n",
        "            output = model(images)\n",
        "            loss = criterion(output, labels)\n",
        "            batchLoss.append(loss.item())\n",
        "            batchAcc.append((output.argmax(dim=1) == labels).type(torch.float).mean())\n",
        "\n",
        "    testLoss[e] = torch.tensor(batchLoss).mean()\n",
        "    testAcc[e]  = torch.tensor(batchAcc).mean()\n",
        "\n",
        "    print(f\"Epoch {e+1}/{epochs} Test Loss: {testLoss[e]:.3f} Test Acc: {testAcc[e]:.3f}, Train Loss: {trainLoss[e]:.3f} Train Acc: {trainAcc[e]:.3f}\")\n",
        "\n"
      ]
    },
    {
      "cell_type": "code",
      "execution_count": null,
      "metadata": {
        "id": "ZW2A47Q_yXLF"
      },
      "outputs": [],
      "source": [
        "fig,ax = plt.subplots(1,2,figsize=(16,5))\n",
        "\n",
        "ax[0].plot(trainLoss,'s-',label='Train')\n",
        "ax[0].plot(testLoss,'o-',label='Test')\n",
        "ax[0].set_xlabel('Epochs')\n",
        "ax[0].set_ylabel('Loss (croos entropy)')\n",
        "ax[0].set_title('Model loss')\n",
        "ax[0].legend()\n",
        "\n",
        "ax[1].plot(trainAcc,'s-',label='Train')\n",
        "ax[1].plot(testAcc,'o-',label='Test')\n",
        "ax[1].set_xlabel('Epochs')\n",
        "ax[1].set_ylabel('Accuracy (%)')\n",
        "ax[1].set_title(f'Final model train/test accuracy: {trainAcc[-1]:.2f}/{testAcc[-1]:.2f}%')\n",
        "ax[1].legend()\n",
        "\n",
        "plt.suptitle('network on mnist',fontweight='bold',fontsize=14)\n",
        "plt.show()"
      ]
    },
    {
      "cell_type": "code",
      "execution_count": null,
      "metadata": {
        "id": "xSAZqz3WyvWJ"
      },
      "outputs": [],
      "source": [
        "X,y = next(iter(test_loader))\n",
        "\n",
        "X = test.desordenar(X).to(device)\n",
        "y = y.to(device)\n",
        "\n",
        "\n",
        "predictions = torch.argmax( model(X) ,axis=1)\n",
        "\n",
        "\n",
        "fig,axs = plt.subplots(4,4,figsize=(10,10))\n",
        "\n",
        "for (i,ax) in enumerate(axs.flatten()):\n",
        "\n",
        "  pic = X.data[i].cpu().numpy().transpose((1,2,0))\n",
        "  pic = pic-np.min(pic) # undo normalization\n",
        "  pic = pic/np.max(pic)\n",
        "\n",
        "  ax.imshow(pic, cmap='gray')\n",
        "\n",
        "\n",
        "  # label and true class\n",
        "  #print(i)\n",
        "  label = trainset.classes[predictions[i]]\n",
        "  truec = trainset.classes[y[i]]\n",
        "  title = f'Pred: {label}  -  true: {truec}'\n",
        "\n",
        "  # set the title with color-coded accuracy\n",
        "  titlecolor = 'g' if truec==label else 'r'\n",
        "  ax.text(15,32,title,ha='center',va='top',fontweight='bold',color='k',backgroundcolor=titlecolor,fontsize=8)\n",
        "  ax.axis('off')\n",
        "\n",
        "plt.tight_layout()\n",
        "plt.show()"
      ]
    },
    {
      "cell_type": "code",
      "execution_count": null,
      "metadata": {
        "id": "SOAo22w2y1EG"
      },
      "outputs": [],
      "source": [
        "# test\n",
        "model.eval()\n",
        "batchLoss = []\n",
        "batchAcc  = []\n",
        "\n",
        "with torch.no_grad():\n",
        "    for images, labels in test_loader:\n",
        "        images = test.desordenar(images).to(device)\n",
        "        labels = labels.to(device)\n",
        "\n",
        "        output = model(images)\n",
        "        loss = criterion(output, labels)\n",
        "        batchLoss.append(loss.item())\n",
        "        batchAcc.append((output.argmax(dim=1) == labels).type(torch.float).mean())\n",
        "\n",
        "testLoss = torch.tensor(batchLoss).mean()\n",
        "testAcc  = torch.tensor(batchAcc).mean()\n",
        "\n",
        "print(testLoss,testAcc)"
      ]
    },
    {
      "cell_type": "code",
      "execution_count": null,
      "metadata": {
        "id": "dwABLCqnzyo1"
      },
      "outputs": [],
      "source": [
        "torch.save(model.state_dict(), 'model_weights.pth')"
      ]
    }
  ],
  "metadata": {
    "accelerator": "GPU",
    "colab": {
      "provenance": []
    },
    "gpuClass": "standard",
    "kernelspec": {
      "display_name": "Python 3",
      "name": "python3"
    },
    "language_info": {
      "name": "python"
    }
  },
  "nbformat": 4,
  "nbformat_minor": 0
}
