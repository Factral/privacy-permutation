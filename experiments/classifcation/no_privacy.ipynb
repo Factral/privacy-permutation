{
 "cells": [
  {
   "cell_type": "code",
   "execution_count": 1,
   "metadata": {},
   "outputs": [
    {
     "name": "stderr",
     "output_type": "stream",
     "text": [
      "c:\\Users\\nelso\\AppData\\Local\\Programs\\Python\\Python39\\lib\\site-packages\\tqdm\\auto.py:21: TqdmWarning: IProgress not found. Please update jupyter and ipywidgets. See https://ipywidgets.readthedocs.io/en/stable/user_install.html\n",
      "  from .autonotebook import tqdm as notebook_tqdm\n"
     ]
    }
   ],
   "source": [
    "import sys\n",
    "import os\n",
    "\n",
    "\n",
    "sys.path.append(os.path.join('..', '..', 'utils'))\n",
    "sys.path.append(os.path.join('..', '..'))\n",
    "\n",
    "import utils\n",
    "import torch\n",
    "\n",
    "from torchvision import datasets\n",
    "import torchvision.transforms as T\n",
    "import models\n",
    "\n",
    "from conf import global_settings as settings\n",
    "from utils_train import dataset_loader"
   ]
  },
  {
   "cell_type": "code",
   "execution_count": 2,
   "metadata": {},
   "outputs": [],
   "source": [
    "utils.setup_seed(0)"
   ]
  },
  {
   "cell_type": "code",
   "execution_count": 3,
   "metadata": {},
   "outputs": [
    {
     "name": "stdout",
     "output_type": "stream",
     "text": [
      "Files already downloaded and verified\n",
      "Files already downloaded and verified\n"
     ]
    }
   ],
   "source": [
    "training_loader, test_loader, perm = dataset_loader(\n",
    "    'cifar10',\n",
    "    settings.CIFAR10_TRAIN_MEAN,\n",
    "    settings.CIFAR10_TRAIN_STD,\n",
    "    num_workers = 4,\n",
    "    batch_size = 32,\n",
    "    shuffle=True,\n",
    "    shuffle_pixels = True\n",
    ")\n"
   ]
  },
  {
   "cell_type": "code",
   "execution_count": 4,
   "metadata": {},
   "outputs": [
    {
     "data": {
      "text/plain": [
       "torch.Size([3, 32, 32])"
      ]
     },
     "execution_count": 4,
     "metadata": {},
     "output_type": "execute_result"
    }
   ],
   "source": [
    "img = next(iter(training_loader))[0][0]\n",
    "\n",
    "img.shape"
   ]
  },
  {
   "cell_type": "code",
   "execution_count": 5,
   "metadata": {},
   "outputs": [],
   "source": [
    "img_ordered = perm.ordenar(img.unsqueeze(0)).squeeze(0)"
   ]
  },
  {
   "cell_type": "code",
   "execution_count": 9,
   "metadata": {},
   "outputs": [
    {
     "name": "stderr",
     "output_type": "stream",
     "text": [
      "Clipping input data to the valid range for imshow with RGB data ([0..1] for floats or [0..255] for integers).\n"
     ]
    },
    {
     "data": {
      "text/plain": [
       "<matplotlib.image.AxesImage at 0x26ee724c640>"
      ]
     },
     "execution_count": 9,
     "metadata": {},
     "output_type": "execute_result"
    },
    {
     "data": {
      "image/png": "[encoded data removed]",
      "text/plain": [
       "<Figure size 640x480 with 1 Axes>"
      ]
     },
     "metadata": {},
     "output_type": "display_data"
    }
   ],
   "source": [
    "import matplotlib.pyplot as plt\n",
    "\n",
    "plt.imshow(img_ordered.permute(1,2,0))"
   ]
  },
  {
   "cell_type": "code",
   "execution_count": 6,
   "metadata": {},
   "outputs": [
    {
     "name": "stdout",
     "output_type": "stream",
     "text": [
      "Requirement already satisfied: torchinfo in c:\\users\\nelso\\appdata\\local\\programs\\python\\python39\\lib\\site-packages (1.8.0)Note: you may need to restart the kernel to use updated packages.\n",
      "\n"
     ]
    },
    {
     "name": "stderr",
     "output_type": "stream",
     "text": [
      "WARNING: You are using pip version 20.2.3; however, version 23.2.1 is available.\n",
      "You should consider upgrading via the 'c:\\Users\\nelso\\AppData\\Local\\Programs\\Python\\Python39\\python.exe -m pip install --upgrade pip' command.\n"
     ]
    }
   ],
   "source": [
    "%pip install torchinfo"
   ]
  },
  {
   "cell_type": "code",
   "execution_count": 80,
   "metadata": {},
   "outputs": [
    {
     "name": "stdout",
     "output_type": "stream",
     "text": [
      "(2, 32, 32)\n",
      "(2, 32, 32)\n",
      "(2, 16, 16)\n",
      "(2, 16, 16)\n",
      "(2, 8, 8)\n",
      "(2, 8, 8)\n",
      "(2, 8, 8)\n",
      "(2, 4, 4)\n",
      "(2, 4, 4)\n",
      "(2, 4, 4)\n",
      "(2, 2, 2)\n",
      "(2, 2, 2)\n",
      "(2, 2, 2)\n"
     ]
    },
    {
     "data": {
      "text/plain": [
       "==========================================================================================\n",
       "Layer (type:depth-idx)                   Output Shape              Param #\n",
       "==========================================================================================\n",
       "VGG_permuted                             [2, 100]                  --\n",
       "├─DeformConv2d: 1-1                      [2, 64, 32, 32]           1,792\n",
       "├─BatchNorm2d: 1-2                       [2, 64, 32, 32]           128\n",
       "├─DeformConv2d: 1-3                      [2, 64, 32, 32]           36,928\n",
       "├─BatchNorm2d: 1-4                       [2, 64, 32, 32]           128\n",
       "├─DeformMaxPool2d: 1-5                   [2, 64, 16, 16]           --\n",
       "├─DeformConv2d: 1-6                      [2, 128, 16, 16]          73,856\n",
       "├─BatchNorm2d: 1-7                       [2, 128, 16, 16]          256\n",
       "├─DeformConv2d: 1-8                      [2, 128, 16, 16]          147,584\n",
       "├─BatchNorm2d: 1-9                       [2, 128, 16, 16]          256\n",
       "├─DeformMaxPool2d: 1-10                  [2, 128, 8, 8]            --\n",
       "├─DeformConv2d: 1-11                     [2, 256, 8, 8]            295,168\n",
       "├─BatchNorm2d: 1-12                      [2, 256, 8, 8]            512\n",
       "├─DeformConv2d: 1-13                     [2, 256, 8, 8]            590,080\n",
       "├─BatchNorm2d: 1-14                      [2, 256, 8, 8]            512\n",
       "├─DeformConv2d: 1-15                     [2, 256, 8, 8]            590,080\n",
       "├─BatchNorm2d: 1-16                      [2, 256, 8, 8]            512\n",
       "├─DeformMaxPool2d: 1-17                  [2, 256, 4, 4]            --\n",
       "├─DeformConv2d: 1-18                     [2, 512, 4, 4]            1,180,160\n",
       "├─BatchNorm2d: 1-19                      [2, 512, 4, 4]            1,024\n",
       "├─DeformConv2d: 1-20                     [2, 512, 4, 4]            2,359,808\n",
       "├─BatchNorm2d: 1-21                      [2, 512, 4, 4]            1,024\n",
       "├─DeformConv2d: 1-22                     [2, 512, 4, 4]            2,359,808\n",
       "├─BatchNorm2d: 1-23                      [2, 512, 4, 4]            1,024\n",
       "├─DeformMaxPool2d: 1-24                  [2, 512, 2, 2]            --\n",
       "├─DeformConv2d: 1-25                     [2, 512, 2, 2]            2,359,808\n",
       "├─BatchNorm2d: 1-26                      [2, 512, 2, 2]            1,024\n",
       "├─DeformConv2d: 1-27                     [2, 512, 2, 2]            2,359,808\n",
       "├─BatchNorm2d: 1-28                      [2, 512, 2, 2]            1,024\n",
       "├─DeformConv2d: 1-29                     [2, 512, 2, 2]            2,359,808\n",
       "├─BatchNorm2d: 1-30                      [2, 512, 2, 2]            1,024\n",
       "├─DeformMaxPool2d: 1-31                  [2, 512, 1, 1]            --\n",
       "├─Sequential: 1-32                       [2, 100]                  --\n",
       "│    └─Linear: 2-1                       [2, 4096]                 2,101,248\n",
       "│    └─ReLU: 2-2                         [2, 4096]                 --\n",
       "│    └─Dropout: 2-3                      [2, 4096]                 --\n",
       "│    └─Linear: 2-4                       [2, 4096]                 16,781,312\n",
       "│    └─ReLU: 2-5                         [2, 4096]                 --\n",
       "│    └─Dropout: 2-6                      [2, 4096]                 --\n",
       "│    └─Linear: 2-7                       [2, 100]                  409,700\n",
       "==========================================================================================\n",
       "Total params: 34,015,396\n",
       "Trainable params: 34,015,396\n",
       "Non-trainable params: 0\n",
       "Total mult-adds (M): 665.55\n",
       "==========================================================================================\n",
       "Input size (MB): 0.02\n",
       "Forward/backward pass size (MB): 8.98\n",
       "Params size (MB): 136.06\n",
       "Estimated Total Size (MB): 145.07\n",
       "=========================================================================================="
      ]
     },
     "execution_count": 80,
     "metadata": {},
     "output_type": "execute_result"
    }
   ],
   "source": [
    "import sys\n",
    "import os\n",
    "\n",
    "sys.path.append(os.path.join('..', '..', 'utils'))\n",
    "sys.path.append(os.path.join('..', '..'))\n",
    "\n",
    "\n",
    "from torchinfo import summary\n",
    "from models import vgg_permuted\n",
    "import utils\n",
    "\n",
    "perm = utils.Permutar(32,1)\n",
    "\n",
    "vgg = vgg_permuted.vgg16_bn_deformable(perm,2)\n",
    "\n",
    "summary(vgg, input_size=(2, 3, 32, 32))"
   ]
  },
  {
   "cell_type": "code",
   "execution_count": null,
   "metadata": {},
   "outputs": [],
   "source": []
  },
  {
   "cell_type": "code",
   "execution_count": 78,
   "metadata": {},
   "outputs": [],
   "source": [
    "import sys\n",
    "import os\n",
    "\n",
    "sys.path.append(os.path.join('..', '..', 'utils'))\n",
    "sys.path.append(os.path.join('..', '..'))\n",
    "\n",
    "import torch\n",
    "import utils\n",
    "\n",
    "device = torch.device('cuda' if torch.cuda.is_available() else 'cpu')\n",
    "\n",
    "my_tensor = torch.tensor([[1, 2, 3,4],\n",
    "                       [5, 6,7,8],\n",
    "                       [9,5,9,19],\n",
    "                          [13,14,17,29]]).to(device).float()\n",
    "\n",
    "my_tensor = my_tensor.unsqueeze(0).unsqueeze(0)\n",
    "\n",
    "my_tensor = my_tensor.repeat(2,1,1,1)\n",
    "\n",
    "perm = utils.Permutar(4,1)\n",
    "\n",
    "my_tensor_permuted = perm.desordenar(my_tensor)"
   ]
  },
  {
   "cell_type": "code",
   "execution_count": 76,
   "metadata": {},
   "outputs": [
    {
     "data": {
      "text/plain": [
       "tensor([[[[10.]]],\n",
       "\n",
       "\n",
       "        [[[10.]]]])"
      ]
     },
     "execution_count": 76,
     "metadata": {},
     "output_type": "execute_result"
    }
   ],
   "source": [
    "pool = utils.DeformMaxPool2d(4, perm, 3)\n",
    "pool.new_perm.ordenar(pool(my_tensor_permuted))"
   ]
  },
  {
   "cell_type": "code",
   "execution_count": 12,
   "metadata": {},
   "outputs": [
    {
     "data": {
      "text/plain": [
       "tensor([[[[ 6.,  8.],\n",
       "          [14., 16.]]],\n",
       "\n",
       "\n",
       "        [[[ 6.,  8.],\n",
       "          [14., 16.]]]])"
      ]
     },
     "execution_count": 12,
     "metadata": {},
     "output_type": "execute_result"
    }
   ],
   "source": [
    "perm.ordenar(result)"
   ]
  },
  {
   "cell_type": "code",
   "execution_count": 79,
   "metadata": {},
   "outputs": [
    {
     "data": {
      "text/plain": [
       "tensor([[[[9.]]],\n",
       "\n",
       "\n",
       "        [[[9.]]]])"
      ]
     },
     "execution_count": 79,
     "metadata": {},
     "output_type": "execute_result"
    }
   ],
   "source": [
    "from torch import nn\n",
    "\n",
    "m = nn.MaxPool2d(3)\n",
    "m(my_tensor)"
   ]
  },
  {
   "cell_type": "code",
   "execution_count": 139,
   "metadata": {},
   "outputs": [
    {
     "name": "stdout",
     "output_type": "stream",
     "text": [
      "torch.Size([64, 64, 32, 32]) torch.Size([64, 64, 32, 32])\n"
     ]
    }
   ],
   "source": [
    "output = torch.load('output.pt')\n",
    "output_deformed = torch.load('output_deformed.pt')\n",
    "\n",
    "print(output.shape, output_deformed.shape)\n",
    "\n",
    "output = output.squeeze()\n",
    "output_deformed = output_deformed.squeeze()\n"
   ]
  },
  {
   "cell_type": "code",
   "execution_count": 103,
   "metadata": {},
   "outputs": [
    {
     "data": {
      "text/plain": [
       "(torch.Size([64, 512]), torch.Size([64, 512]))"
      ]
     },
     "execution_count": 103,
     "metadata": {},
     "output_type": "execute_result"
    }
   ],
   "source": [
    "output.shape, output_deformed.shape"
   ]
  },
  {
   "cell_type": "code",
   "execution_count": 140,
   "metadata": {},
   "outputs": [
    {
     "data": {
      "text/plain": [
       "(tensor(-0.1447), tensor(-0.3719))"
      ]
     },
     "execution_count": 140,
     "metadata": {},
     "output_type": "execute_result"
    }
   ],
   "source": [
    "output[0,0,0,0], output_deformed[0,0,0,0]"
   ]
  },
  {
   "cell_type": "code",
   "execution_count": 141,
   "metadata": {},
   "outputs": [
    {
     "data": {
      "text/plain": [
       "<matplotlib.image.AxesImage at 0x2762848a550>"
      ]
     },
     "execution_count": 141,
     "metadata": {},
     "output_type": "execute_result"
    },
    {
     "data": {
      "image/png": "[encoded data removed]",
      "text/plain": [
       "<Figure size 640x480 with 1 Axes>"
      ]
     },
     "metadata": {},
     "output_type": "display_data"
    }
   ],
   "source": [
    "plt.imshow(output[10,0,:,:].detach().numpy())"
   ]
  },
  {
   "cell_type": "code",
   "execution_count": 142,
   "metadata": {},
   "outputs": [
    {
     "data": {
      "text/plain": [
       "<matplotlib.image.AxesImage at 0x27628504b20>"
      ]
     },
     "execution_count": 142,
     "metadata": {},
     "output_type": "execute_result"
    },
    {
     "data": {
      "image/png": "[encoded data removed]",
      "text/plain": [
       "<Figure size 640x480 with 1 Axes>"
      ]
     },
     "metadata": {},
     "output_type": "display_data"
    }
   ],
   "source": [
    "plt.imshow(output_deformed[10,0,:,:].detach().numpy())"
   ]
  },
  {
   "cell_type": "code",
   "execution_count": 143,
   "metadata": {},
   "outputs": [
    {
     "data": {
      "text/plain": [
       "<matplotlib.colorbar.Colorbar at 0x2762a629f10>"
      ]
     },
     "execution_count": 143,
     "metadata": {},
     "output_type": "execute_result"
    },
    {
     "data": {
      "image/png": "[encoded data removed]",
      "text/plain": [
       "<Figure size 640x480 with 2 Axes>"
      ]
     },
     "metadata": {},
     "output_type": "display_data"
    }
   ],
   "source": [
    "import matplotlib.pyplot as plt\n",
    "\n",
    "a = output[10,0,:,:].detach() - output_deformed[10,0,:,:].detach()\n",
    "\n",
    "plt.imshow(a.numpy())\n",
    "plt.colorbar()"
   ]
  },
  {
   "cell_type": "code",
   "execution_count": 16,
   "metadata": {},
   "outputs": [
    {
     "data": {
      "text/plain": [
       "(tensor(0.3778), tensor(0.5105))"
      ]
     },
     "execution_count": 16,
     "metadata": {},
     "output_type": "execute_result"
    }
   ],
   "source": [
    "\n",
    "output[0,0,0,0], output_deformed[0,0,0,0]"
   ]
  },
  {
   "cell_type": "code",
   "execution_count": 302,
   "metadata": {},
   "outputs": [],
   "source": [
    "import numpy as np\n",
    "\n",
    "def get_index_conv(index, size):\n",
    "    # this will return in a list, the index of all pixels that are in the convolution\n",
    "    # index is the pixel target, the center of the convolution, like [5,5]\n",
    "    # the convolution is size x size\n",
    "\n",
    "    index_range = range(-(size // 2), size // 2 + 1)\n",
    "    return [[index[0] + i, index[1] + j] for i in index_range for j in index_range]\n",
    "    \n",
    "def calculate_index_conv(dims, stride, padding, kernel_size):\n",
    "    # Calcula el tamaño de la salida de la convolución\n",
    "    output_dims = (dims + 2 * padding - (kernel_size - 1) - 1) // stride + 1\n",
    "\n",
    "    # Crea una matriz para almacenar los índices de los píxeles centrales\n",
    "    \n",
    "    center_indices = np.zeros((output_dims, output_dims, 2), dtype=int)\n",
    "    \n",
    "    #print(-padding + kernel_size // 2)\n",
    "    #print((-padding + kernel_size) // 2)\n",
    "    #print(np.arange(-padding + kernel_size // 2, dims + padding - kernel_size // 2, stride)[:,\n",
    "    #                          np.newaxis])\n",
    "    #print(np.arange(-padding + kernel_size // 2, dims + padding - kernel_size // 2, stride)[\n",
    "    #                          np.newaxis, :])\n",
    "\n",
    "\n",
    "    # Calcula los índices de los píxeles centrales\n",
    "    center_indices[:, :, 0] = np.arange(-padding + kernel_size // 2, dims + padding - kernel_size // 2, stride)[:,\n",
    "                              np.newaxis]\n",
    "    \n",
    "    center_indices[:, :, 1] = np.arange(-padding + kernel_size // 2, dims + padding - kernel_size // 2, stride)[\n",
    "                              np.newaxis, :]\n",
    "\n",
    "    return center_indices\n",
    "\n",
    "def calculate_offset(dims, stride, padding, kernel_size, permutation, batch=64):\n",
    "    output_dims = (dims + 2 * padding - (kernel_size - 1) - 1) // stride + 1\n",
    "    print(output_dims)\n",
    "    # generate key for the permutation of conv\n",
    "    perm = utils.Permutar(output_dims, 1)\n",
    "    index_positions = calculate_index_conv(dims, stride, padding, kernel_size)\n",
    "\n",
    "    # reorder index position\n",
    "    index_positions = np.transpose(index_positions, (2, 0, 1))\n",
    "    print(index_positions.shape)\n",
    "\n",
    "    # desdordenar conv\n",
    "    index_positions_ = perm.desordenar(torch.from_numpy(index_positions).unsqueeze(0)).squeeze(0).numpy()\n",
    "\n",
    "    pixel_positions = np.array([permutation.get_start_block(xi) for xi in permutation.key])\n",
    "\n",
    "    offset = np.zeros((2 * kernel_size ** 2, output_dims, output_dims), dtype='float32')\n",
    "\n",
    "    for i in range(output_dims):\n",
    "        for j in range(output_dims):\n",
    "            positions = get_index_conv(index_positions_[:, i, j], kernel_size)\n",
    "            positions_ = get_index_conv(index_positions[:, i, j], kernel_size)\n",
    "            #print(positions_)\n",
    "\n",
    "            for a, pos in enumerate(positions):\n",
    "                index = np.where((pixel_positions == pos).all(axis=1))[0]\n",
    "                if index.size > 0:\n",
    "                    fake_pos = permutation.get_start_block(index)\n",
    "                    distance = np.squeeze(fake_pos) - positions_[a] \n",
    "                else:\n",
    "                    distance = np.array([0, 0]) - positions_[a] - 1\n",
    "\n",
    "                offset[a * 2, i, j] = distance[0]\n",
    "                offset[a * 2 + 1, i, j] = distance[1]\n",
    "\n",
    "    offset = np.tile(offset, [batch, 1, 1, 1])\n",
    "    return torch.from_numpy(offset).float(), perm, index_positions\n"
   ]
  },
  {
   "cell_type": "code",
   "execution_count": 306,
   "metadata": {},
   "outputs": [
    {
     "name": "stdout",
     "output_type": "stream",
     "text": [
      "32\n",
      "(2, 32, 32)\n",
      "32\n"
     ]
    }
   ],
   "source": [
    "from torchvision.ops import DeformConv2d\n",
    "import utils\n",
    "\n",
    "conv = DeformConv2d(1, 1, 3, padding=1)\n",
    "\n",
    "conv.weight.data = torch.ones_like(conv.weight.data)\n",
    "conv.bias.data = torch.zeros_like(conv.bias.data)\n",
    "\n",
    "perm = utils.Permutar(32,1)\n",
    "\n",
    "tensor_example = torch.rand(1,1,32,32)\n",
    "tensor_example_permuted = perm.desordenar(tensor_example)\n",
    "offset, perm, index_positions = calculate_offset(32, 1, 1, 3, perm, 1)\n",
    "\n",
    "\n",
    "output_dims =  (32 + 2 * 1 - (3 - 1) - 1) // 1 + 1\n",
    "print(output_dims)\n",
    "#print(tensor_example)\n",
    "\n",
    "real_output = conv(tensor_example,torch.zeros(1, 18, 32, 32))\n",
    "\n",
    "output_disordered = conv(tensor_example_permuted, offset)\n",
    "\n",
    "#real_output,output_disordered"
   ]
  },
  {
   "cell_type": "code",
   "execution_count": 307,
   "metadata": {},
   "outputs": [],
   "source": [
    "output_ordered = perm.ordenar(output_disordered)\n",
    "\n",
    "#output_ordered"
   ]
  },
  {
   "cell_type": "code",
   "execution_count": 308,
   "metadata": {},
   "outputs": [
    {
     "data": {
      "text/plain": [
       "<matplotlib.colorbar.Colorbar at 0x2762ed1fb50>"
      ]
     },
     "execution_count": 308,
     "metadata": {},
     "output_type": "execute_result"
    },
    {
     "data": {
      "image/png": "[encoded data removed]",
      "text/plain": [
       "<Figure size 640x480 with 2 Axes>"
      ]
     },
     "metadata": {},
     "output_type": "display_data"
    }
   ],
   "source": [
    "plt.imshow(output_ordered.squeeze().detach() - real_output.squeeze().detach())\n",
    "plt.colorbar()"
   ]
  },
  {
   "cell_type": "code",
   "execution_count": 178,
   "metadata": {},
   "outputs": [
    {
     "data": {
      "text/plain": [
       "tensor([5., 2., 2., 5., 3., 5., 0., 2., 5., 6., 4., 2., 4., 3., 3., 0., 5., 1.])"
      ]
     },
     "execution_count": 178,
     "metadata": {},
     "output_type": "execute_result"
    }
   ],
   "source": [
    "offset[0,:,0,0]"
   ]
  }
 ],
 "metadata": {
  "kernelspec": {
   "display_name": "Python 3",
   "language": "python",
   "name": "python3"
  },
  "language_info": {
   "codemirror_mode": {
    "name": "ipython",
    "version": 3
   },
   "file_extension": ".py",
   "mimetype": "text/x-python",
   "name": "python",
   "nbconvert_exporter": "python",
   "pygments_lexer": "ipython3",
   "version": "3.9.0"
  },
  "orig_nbformat": 4
 },
 "nbformat": 4,
 "nbformat_minor": 2
}
