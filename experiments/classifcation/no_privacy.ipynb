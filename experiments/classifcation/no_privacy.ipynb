{
 "cells": [
  {
   "cell_type": "code",
   "execution_count": 1,
   "metadata": {},
   "outputs": [
    {
     "name": "stderr",
     "output_type": "stream",
     "text": [
      "c:\\Users\\nelso\\AppData\\Local\\Programs\\Python\\Python39\\lib\\site-packages\\tqdm\\auto.py:21: TqdmWarning: IProgress not found. Please update jupyter and ipywidgets. See https://ipywidgets.readthedocs.io/en/stable/user_install.html\n",
      "  from .autonotebook import tqdm as notebook_tqdm\n"
     ]
    }
   ],
   "source": [
    "import sys\n",
    "import os\n",
    "\n",
    "\n",
    "sys.path.append(os.path.join('..', '..', 'utils'))\n",
    "sys.path.append(os.path.join('..', '..'))\n",
    "\n",
    "import utils\n",
    "import torch\n",
    "\n",
    "from torchvision import datasets\n",
    "import torchvision.transforms as T\n",
    "import models\n",
    "\n",
    "from conf import global_settings as settings\n",
    "from utils_train import dataset_loader"
   ]
  },
  {
   "cell_type": "code",
   "execution_count": 2,
   "metadata": {},
   "outputs": [],
   "source": [
    "utils.setup_seed(0)"
   ]
  },
  {
   "cell_type": "code",
   "execution_count": 3,
   "metadata": {},
   "outputs": [
    {
     "name": "stdout",
     "output_type": "stream",
     "text": [
      "Files already downloaded and verified\n",
      "Files already downloaded and verified\n"
     ]
    }
   ],
   "source": [
    "training_loader, test_loader, perm = dataset_loader(\n",
    "    'cifar10',\n",
    "    settings.CIFAR10_TRAIN_MEAN,\n",
    "    settings.CIFAR10_TRAIN_STD,\n",
    "    num_workers = 4,\n",
    "    batch_size = 32,\n",
    "    shuffle=True,\n",
    "    shuffle_pixels = True\n",
    ")\n"
   ]
  },
  {
   "cell_type": "code",
   "execution_count": 4,
   "metadata": {},
   "outputs": [
    {
     "data": {
      "text/plain": [
       "torch.Size([3, 32, 32])"
      ]
     },
     "execution_count": 4,
     "metadata": {},
     "output_type": "execute_result"
    }
   ],
   "source": [
    "img = next(iter(training_loader))[0][0]\n",
    "\n",
    "img.shape"
   ]
  },
  {
   "cell_type": "code",
   "execution_count": 5,
   "metadata": {},
   "outputs": [],
   "source": [
    "img_ordered = perm.ordenar(img.unsqueeze(0)).squeeze(0)"
   ]
  },
  {
   "cell_type": "code",
   "execution_count": 9,
   "metadata": {},
   "outputs": [
    {
     "name": "stderr",
     "output_type": "stream",
     "text": [
      "Clipping input data to the valid range for imshow with RGB data ([0..1] for floats or [0..255] for integers).\n"
     ]
    },
    {
     "data": {
      "text/plain": [
       "<matplotlib.image.AxesImage at 0x26ee724c640>"
      ]
     },
     "execution_count": 9,
     "metadata": {},
     "output_type": "execute_result"
    },
    {
     "data": {
      "image/png": "[encoded data removed]",
      "text/plain": [
       "<Figure size 640x480 with 1 Axes>"
      ]
     },
     "metadata": {},
     "output_type": "display_data"
    }
   ],
   "source": [
    "import matplotlib.pyplot as plt\n",
    "\n",
    "plt.imshow(img_ordered.permute(1,2,0))"
   ]
  },
  {
   "cell_type": "code",
   "execution_count": 6,
   "metadata": {},
   "outputs": [
    {
     "name": "stdout",
     "output_type": "stream",
     "text": [
      "Requirement already satisfied: torchinfo in c:\\users\\nelso\\appdata\\local\\programs\\python\\python39\\lib\\site-packages (1.8.0)Note: you may need to restart the kernel to use updated packages.\n",
      "\n"
     ]
    },
    {
     "name": "stderr",
     "output_type": "stream",
     "text": [
      "WARNING: You are using pip version 20.2.3; however, version 23.2.1 is available.\n",
      "You should consider upgrading via the 'c:\\Users\\nelso\\AppData\\Local\\Programs\\Python\\Python39\\python.exe -m pip install --upgrade pip' command.\n"
     ]
    }
   ],
   "source": [
    "%pip install torchinfo"
   ]
  },
  {
   "cell_type": "code",
   "execution_count": 1,
   "metadata": {},
   "outputs": [
    {
     "name": "stderr",
     "output_type": "stream",
     "text": [
      "c:\\Users\\nelso\\AppData\\Local\\Programs\\Python\\Python39\\lib\\site-packages\\tqdm\\auto.py:21: TqdmWarning: IProgress not found. Please update jupyter and ipywidgets. See https://ipywidgets.readthedocs.io/en/stable/user_install.html\n",
      "  from .autonotebook import tqdm as notebook_tqdm\n"
     ]
    },
    {
     "name": "stdout",
     "output_type": "stream",
     "text": [
      "(2, 32, 32)\n",
      "(2, 32, 32)\n",
      "(2, 16, 16)\n",
      "(2, 16, 16)\n",
      "(2, 8, 8)\n",
      "(2, 8, 8)\n",
      "(2, 8, 8)\n",
      "(2, 4, 4)\n",
      "(2, 4, 4)\n",
      "(2, 4, 4)\n",
      "(2, 2, 2)\n",
      "(2, 2, 2)\n",
      "(2, 2, 2)\n"
     ]
    },
    {
     "data": {
      "text/plain": [
       "==========================================================================================\n",
       "Layer (type:depth-idx)                   Output Shape              Param #\n",
       "==========================================================================================\n",
       "VGG_permuted                             [2, 100]                  --\n",
       "├─DeformConv2d: 1-1                      [2, 64, 32, 32]           1,792\n",
       "├─BatchNorm2d: 1-2                       [2, 64, 32, 32]           128\n",
       "├─DeformConv2d: 1-3                      [2, 64, 32, 32]           36,928\n",
       "├─BatchNorm2d: 1-4                       [2, 64, 32, 32]           128\n",
       "├─DeformMaxPool2d: 1-5                   [2, 64, 16, 16]           --\n",
       "├─DeformConv2d: 1-6                      [2, 128, 16, 16]          73,856\n",
       "├─BatchNorm2d: 1-7                       [2, 128, 16, 16]          256\n",
       "├─DeformConv2d: 1-8                      [2, 128, 16, 16]          147,584\n",
       "├─BatchNorm2d: 1-9                       [2, 128, 16, 16]          256\n",
       "├─DeformMaxPool2d: 1-10                  [2, 128, 8, 8]            --\n",
       "├─DeformConv2d: 1-11                     [2, 256, 8, 8]            295,168\n",
       "├─BatchNorm2d: 1-12                      [2, 256, 8, 8]            512\n",
       "├─DeformConv2d: 1-13                     [2, 256, 8, 8]            590,080\n",
       "├─BatchNorm2d: 1-14                      [2, 256, 8, 8]            512\n",
       "├─DeformConv2d: 1-15                     [2, 256, 8, 8]            590,080\n",
       "├─BatchNorm2d: 1-16                      [2, 256, 8, 8]            512\n",
       "├─DeformMaxPool2d: 1-17                  [2, 256, 4, 4]            --\n",
       "├─DeformConv2d: 1-18                     [2, 512, 4, 4]            1,180,160\n",
       "├─BatchNorm2d: 1-19                      [2, 512, 4, 4]            1,024\n",
       "├─DeformConv2d: 1-20                     [2, 512, 4, 4]            2,359,808\n",
       "├─BatchNorm2d: 1-21                      [2, 512, 4, 4]            1,024\n",
       "├─DeformConv2d: 1-22                     [2, 512, 4, 4]            2,359,808\n",
       "├─BatchNorm2d: 1-23                      [2, 512, 4, 4]            1,024\n",
       "├─DeformMaxPool2d: 1-24                  [2, 512, 2, 2]            --\n",
       "├─DeformConv2d: 1-25                     [2, 512, 2, 2]            2,359,808\n",
       "├─BatchNorm2d: 1-26                      [2, 512, 2, 2]            1,024\n",
       "├─DeformConv2d: 1-27                     [2, 512, 2, 2]            2,359,808\n",
       "├─BatchNorm2d: 1-28                      [2, 512, 2, 2]            1,024\n",
       "├─DeformConv2d: 1-29                     [2, 512, 2, 2]            2,359,808\n",
       "├─BatchNorm2d: 1-30                      [2, 512, 2, 2]            1,024\n",
       "├─DeformMaxPool2d: 1-31                  [2, 512, 1, 1]            --\n",
       "├─Sequential: 1-32                       [2, 100]                  --\n",
       "│    └─Linear: 2-1                       [2, 4096]                 2,101,248\n",
       "│    └─ReLU: 2-2                         [2, 4096]                 --\n",
       "│    └─Dropout: 2-3                      [2, 4096]                 --\n",
       "│    └─Linear: 2-4                       [2, 4096]                 16,781,312\n",
       "│    └─ReLU: 2-5                         [2, 4096]                 --\n",
       "│    └─Dropout: 2-6                      [2, 4096]                 --\n",
       "│    └─Linear: 2-7                       [2, 100]                  409,700\n",
       "==========================================================================================\n",
       "Total params: 34,015,396\n",
       "Trainable params: 34,015,396\n",
       "Non-trainable params: 0\n",
       "Total mult-adds (M): 665.55\n",
       "==========================================================================================\n",
       "Input size (MB): 0.02\n",
       "Forward/backward pass size (MB): 8.98\n",
       "Params size (MB): 136.06\n",
       "Estimated Total Size (MB): 145.07\n",
       "=========================================================================================="
      ]
     },
     "execution_count": 1,
     "metadata": {},
     "output_type": "execute_result"
    }
   ],
   "source": [
    "import sys\n",
    "import os\n",
    "\n",
    "sys.path.append(os.path.join('..', '..', 'utils'))\n",
    "sys.path.append(os.path.join('..', '..'))\n",
    "\n",
    "\n",
    "from torchinfo import summary\n",
    "from models import vgg_permuted\n",
    "import utils\n",
    "\n",
    "perm = utils.Permutar(32,1)\n",
    "\n",
    "vgg = vgg_permuted.vgg16_bn_deformable(perm,2)\n",
    "\n",
    "summary(vgg, input_size=(2, 3, 32, 32))"
   ]
  },
  {
   "cell_type": "code",
   "execution_count": 7,
   "metadata": {},
   "outputs": [],
   "source": [
    "import sys\n",
    "import os\n",
    "\n",
    "sys.path.append(os.path.join('..', '..', 'utils'))\n",
    "sys.path.append(os.path.join('..', '..'))\n",
    "\n",
    "import torch\n",
    "import utils\n",
    "\n",
    "device = torch.device('cuda' if torch.cuda.is_available() else 'cpu')\n",
    "\n",
    "my_tensor = torch.tensor([[1, 2, 3,4],\n",
    "                       [5, 6,7,8],\n",
    "                       [9,10,11,12],\n",
    "                          [13,14,15,16]]).to(device).float()\n",
    "\n",
    "my_tensor = my_tensor.unsqueeze(0).unsqueeze(0)\n",
    "\n",
    "my_tensor = my_tensor.repeat(2,1,1,1)\n",
    "\n",
    "perm = utils.Permutar(4,1)\n",
    "\n",
    "my_tensor_permuted = perm.desordenar(my_tensor)"
   ]
  },
  {
   "cell_type": "code",
   "execution_count": 8,
   "metadata": {},
   "outputs": [
    {
     "data": {
      "text/plain": [
       "tensor([[[[16.,  8.],\n",
       "          [ 6., 14.]]],\n",
       "\n",
       "\n",
       "        [[[16.,  8.],\n",
       "          [ 6., 14.]]]])"
      ]
     },
     "execution_count": 8,
     "metadata": {},
     "output_type": "execute_result"
    }
   ],
   "source": [
    "result,perm = utils.deform_maxPool2d(my_tensor_permuted,perm,2)\n",
    "result"
   ]
  },
  {
   "cell_type": "code",
   "execution_count": 12,
   "metadata": {},
   "outputs": [
    {
     "data": {
      "text/plain": [
       "tensor([[[[ 6.,  8.],\n",
       "          [14., 16.]]],\n",
       "\n",
       "\n",
       "        [[[ 6.,  8.],\n",
       "          [14., 16.]]]])"
      ]
     },
     "execution_count": 12,
     "metadata": {},
     "output_type": "execute_result"
    }
   ],
   "source": [
    "perm.ordenar(result)"
   ]
  },
  {
   "cell_type": "code",
   "execution_count": 9,
   "metadata": {},
   "outputs": [
    {
     "data": {
      "text/plain": [
       "tensor([[[[ 6.,  8.],\n",
       "          [14., 16.]]],\n",
       "\n",
       "\n",
       "        [[[ 6.,  8.],\n",
       "          [14., 16.]]]])"
      ]
     },
     "execution_count": 9,
     "metadata": {},
     "output_type": "execute_result"
    }
   ],
   "source": [
    "from torch import nn\n",
    "\n",
    "m = nn.MaxPool2d(2)\n",
    "m(my_tensor)"
   ]
  }
 ],
 "metadata": {
  "kernelspec": {
   "display_name": "Python 3",
   "language": "python",
   "name": "python3"
  },
  "language_info": {
   "codemirror_mode": {
    "name": "ipython",
    "version": 3
   },
   "file_extension": ".py",
   "mimetype": "text/x-python",
   "name": "python",
   "nbconvert_exporter": "python",
   "pygments_lexer": "ipython3",
   "version": "3.9.0"
  },
  "orig_nbformat": 4
 },
 "nbformat": 4,
 "nbformat_minor": 2
}
