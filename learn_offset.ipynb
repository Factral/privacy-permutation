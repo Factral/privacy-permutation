{
  "cells": [
    {
      "cell_type": "code",
      "execution_count": null,
      "metadata": {
        "colab": {
          "base_uri": "https://localhost:8080/"
        },
        "id": "Xjx5yxz19B0D",
        "outputId": "b169fb15-7baf-47be-b248-5268a0ac5ae1"
      },
      "outputs": [
        {
          "name": "stdout",
          "output_type": "stream",
          "text": [
            "Mounted at /content/drive\n"
          ]
        }
      ],
      "source": [
        "from google.colab import drive\n",
        "drive.mount('/content/drive')\n",
        "\n",
        "import os\n",
        "os.chdir('/content/drive/My Drive/privacy_permutation/')"
      ]
    },
    {
      "cell_type": "code",
      "execution_count": null,
      "metadata": {
        "colab": {
          "base_uri": "https://localhost:8080/"
        },
        "id": "rmoYTZBt9B0K",
        "outputId": "fb170544-49c5-4132-9c61-34e028b7efbf"
      },
      "outputs": [
        {
          "name": "stderr",
          "output_type": "stream",
          "text": [
            "<ipython-input-2-a9992df2c7b9>:17: DeprecationWarning: `set_matplotlib_formats` is deprecated since IPython 7.23, directly use `matplotlib_inline.backend_inline.set_matplotlib_formats()`\n",
            "  display.set_matplotlib_formats('svg')\n"
          ]
        }
      ],
      "source": [
        "import numpy as np\n",
        "\n",
        "import torch\n",
        "import torch.nn as nn\n",
        "import torch.nn.functional as F\n",
        "\n",
        "import torchvision\n",
        "import torchvision.transforms as T\n",
        "from torch.utils.data import DataLoader,Subset\n",
        "\n",
        "#from torchsummary import summary\n",
        "%pip install torchinfo -q\n",
        "from torchinfo import summary\n",
        "\n",
        "import matplotlib.pyplot as plt\n",
        "from IPython import display\n",
        "display.set_matplotlib_formats('svg')\n",
        "\n",
        "import scipy.signal as signal\n",
        "\n",
        "import utils\n",
        "\n",
        "# %matplotlib widget\n",
        "%matplotlib notebook\n",
        "%matplotlib inline"
      ]
    },
    {
      "cell_type": "code",
      "execution_count": null,
      "metadata": {
        "colab": {
          "base_uri": "https://localhost:8080/"
        },
        "id": "MwoQtWZJ9B0M",
        "outputId": "d4d64a83-4dea-447d-8d5c-00437b2e50e1"
      },
      "outputs": [
        {
          "data": {
            "text/plain": [
              "array([[4, 3],\n",
              "       [2, 1]])"
            ]
          },
          "execution_count": 3,
          "metadata": {},
          "output_type": "execute_result"
        }
      ],
      "source": [
        "m = np.array([[1,2],[3,4]])\n",
        "P = np.array([[0,1],[1,0]])\n",
        "\n",
        "\n",
        "P @ m @ P.T"
      ]
    },
    {
      "cell_type": "code",
      "execution_count": null,
      "metadata": {
        "colab": {
          "base_uri": "https://localhost:8080/"
        },
        "id": "OUoPJZba9B0O",
        "outputId": "4d046032-d652-48e2-ae48-13ddc315702b"
      },
      "outputs": [
        {
          "name": "stdout",
          "output_type": "stream",
          "text": [
            "tensor([[0., 1., 0., 0.],\n",
            "        [0., 1., 0., 0.],\n",
            "        [0., 1., 0., 0.],\n",
            "        [0., 0., 0., 1.]])\n",
            "tensor([[-0.4884,  3.2561,  0.8783,  1.2068],\n",
            "        [ 1.5633, -0.4647,  0.1635,  0.9188],\n",
            "        [ 0.5430,  0.8639, -0.8693,  0.2083],\n",
            "        [-0.5269, -1.0092, -0.5213,  0.8347]])\n"
          ]
        },
        {
          "data": {
            "text/plain": [
              "(None, None)"
            ]
          },
          "execution_count": 4,
          "metadata": {},
          "output_type": "execute_result"
        }
      ],
      "source": [
        "# apply softmax to a random tensor\n",
        "\n",
        "x = torch.randn(4,4)\n",
        "\n",
        "soft_x = F.gumbel_softmax(x, hard=True)\n",
        "\n",
        "print(soft_x), print(x)"
      ]
    },
    {
      "cell_type": "code",
      "execution_count": null,
      "metadata": {
        "id": "xt7UzTyU9B0Q"
      },
      "outputs": [],
      "source": [
        "# arnold transform\n",
        "\n",
        "def arnold_transform(img, N):\n",
        "    \"\"\"\n",
        "    Apply Arnold Transform to an image\n",
        "    :param img: original image\n",
        "    :param N: number of iterations\n",
        "    :return: transformed image\n",
        "    \"\"\"\n",
        "    img = np.array(img)\n",
        "    img_ = np.zeros_like(img)\n",
        "\n",
        "    for i in range(img.shape[0]):\n",
        "        for j in range(img.shape[1]):\n",
        "            I,J = (np.array([[1,1],[1,0]]) @ np.array([i,j]) ) % N\n",
        "            img_[I,J] = img[i,j]\n",
        "\n",
        "\n",
        "    return img_\n",
        "\n",
        "#load lenna\n",
        "lenna = plt.imread('lenna.png')\n",
        "lenna = np.mean(lenna, axis=2)\n",
        "\n",
        "#apply arnold transform\n",
        "\n",
        "lenna_arnold = arnold_transform(lenna, 512)\n",
        "\n",
        "#plot lenna and lenna_arnold\n",
        "\n",
        "fig, ax = plt.subplots(1,2,figsize=(10,5))\n",
        "ax[0].imshow(lenna)\n",
        "ax[0].set_title('Original')\n",
        "ax[1].imshow(lenna_arnold)\n",
        "ax[1].set_title('Arnold Transform')\n",
        "\n"
      ]
    },
    {
      "cell_type": "code",
      "execution_count": null,
      "metadata": {
        "id": "VZ777Lw_9B0R"
      },
      "outputs": [],
      "source": [
        "# use GPU if available\n",
        "device = torch.device('cuda:0' if torch.cuda.is_available() else 'cpu')\n",
        "utils.setup_seed(1312)"
      ]
    },
    {
      "cell_type": "code",
      "execution_count": null,
      "metadata": {
        "colab": {
          "base_uri": "https://localhost:8080/"
        },
        "id": "iiYXjD6A9B0T",
        "outputId": "5df8b173-ab73-47d3-89ba-530175ad89a3"
      },
      "outputs": [
        {
          "data": {
            "text/plain": [
              "array([[ 608,  275,  171, ...,  160,  829,  751],\n",
              "       [ 543,  230,  739, ...,  541,  695,  156],\n",
              "       [ 712,  539,   68, ...,  786,   64, 1007],\n",
              "       ...,\n",
              "       [ 902,  175,  855, ...,  808,  682,  526],\n",
              "       [ 581, 1078,  409, ...,  388,  278,  237],\n",
              "       [  90,   30,  375, ...,  791,  176,   81]])"
            ]
          },
          "execution_count": 7,
          "metadata": {},
          "output_type": "execute_result"
        }
      ],
      "source": [
        "img_size = 33\n",
        "\n",
        "test = utils.Permutar(img_size, 1)\n",
        "test.key.reshape(33,33)"
      ]
    },
    {
      "cell_type": "code",
      "execution_count": null,
      "metadata": {
        "id": "DHmxWKnq9B0X"
      },
      "outputs": [],
      "source": [
        "from torchvision import datasets, transforms\n",
        "\n",
        "# Define a transform to normalize the data\n",
        "transform=transforms.Compose([\n",
        "    T.Resize((33,33)),\n",
        "    T.ToTensor(),\n",
        "    T.Normalize((0.1307,), (0.3081,))\n",
        "    ])\n",
        "\n",
        "trainset = datasets.FashionMNIST(root='data', train=True, download=True, transform=transform,)\n",
        "testset = datasets.FashionMNIST(root='data', train=False, download=True, transform=transform)\n",
        "\n",
        "fake_loader = torch.utils.data.DataLoader(trainset, batch_size=len(trainset), shuffle=False,drop_last=True)\n",
        "a = list(fake_loader)\n",
        "b = test.desordenar(a[0][0])\n",
        "\n",
        "fake_loader2 = torch.utils.data.DataLoader(testset, batch_size=len(testset), shuffle=False,drop_last=True)\n",
        "a2 = list(fake_loader2)\n",
        "b2 = test.desordenar(a2[0][0])\n",
        "\n",
        "trainset_disorderly = torch.utils.data.TensorDataset(b,a[0][1])\n",
        "testset_disorderly = torch.utils.data.TensorDataset(b2,a2[0][1])\n",
        "\n",
        "train_loader = torch.utils.data.DataLoader(trainset_disorderly, batch_size=64, drop_last=True, shuffle=True)\n",
        "test_loader = torch.utils.data.DataLoader(testset_disorderly, batch_size=64, shuffle=False, drop_last=True)"
      ]
    },
    {
      "cell_type": "code",
      "execution_count": null,
      "metadata": {
        "colab": {
          "base_uri": "https://localhost:8080/",
          "height": 514
        },
        "id": "gm0IX_cy9B0Z",
        "outputId": "cf17b76c-31eb-4570-f380-b6629bb627df"
      },
      "outputs": [
        {
          "data": {
            "image/png": "[encoded data removed]",
            "text/plain": [
              "<Figure size 1000x1000 with 2 Axes>"
            ]
          },
          "metadata": {},
          "output_type": "display_data"
        }
      ],
      "source": [
        "a = next(iter(train_loader))\n",
        "X,y = [a[0][0], a[1][0]]\n",
        "fig,axs = plt.subplots(1,2,figsize=(10,10))\n",
        "\n",
        "for (i,ax) in enumerate(axs.flatten()):\n",
        "\n",
        "  pic = X.data.cpu().numpy().transpose((1,2,0))\n",
        "  if i == 1:\n",
        "    pic = test.ordenar(X.unsqueeze(dim=0)).squeeze()\n",
        "    pic = pic.data.cpu().numpy()\n",
        "\n",
        "  pic = pic-np.min(pic) # undo normalization\n",
        "  pic = pic/np.max(pic)\n",
        "\n",
        "  label = testset.classes[y]\n",
        "\n",
        "\n",
        "\n",
        "  ax.imshow(pic)\n",
        "  ax.text(0,0,label,ha='left',va='top',fontweight='bold',color='k',backgroundcolor='y')\n",
        "  ax.axis('off')\n",
        "\n",
        "plt.tight_layout()\n",
        "plt.show()"
      ]
    },
    {
      "cell_type": "code",
      "execution_count": null,
      "metadata": {
        "id": "ov3NVnTM9B0c"
      },
      "outputs": [],
      "source": [
        "from permuted_newtork import PermutedNetwork_2, PermutedNetwork, NormalNetwork\n",
        "\n",
        "model = NormalNetwork().to(device)"
      ]
    },
    {
      "cell_type": "code",
      "execution_count": null,
      "metadata": {
        "colab": {
          "base_uri": "https://localhost:8080/"
        },
        "id": "L2wFSGTa9B0e",
        "outputId": "2abd6a6d-0252-46a0-e6f1-d6d27ae22c2a"
      },
      "outputs": [
        {
          "data": {
            "text/plain": [
              "==========================================================================================\n",
              "Layer (type:depth-idx)                   Output Shape              Param #\n",
              "==========================================================================================\n",
              "NormalNetwork                            [1, 10]                   32\n",
              "├─Conv2d: 1-1                            [1, 16, 33, 33]           160\n",
              "├─MaxPool2d: 1-2                         [1, 16, 16, 16]           --\n",
              "├─Conv2d: 1-3                            [1, 32, 16, 16]           4,640\n",
              "├─MaxPool2d: 1-4                         [1, 32, 8, 8]             --\n",
              "├─Conv2d: 1-5                            [1, 16, 8, 8]             4,624\n",
              "├─AdaptiveAvgPool2d: 1-6                 [1, 16, 1, 1]             --\n",
              "├─Linear: 1-7                            [1, 10]                   170\n",
              "==========================================================================================\n",
              "Total params: 9,626\n",
              "Trainable params: 9,626\n",
              "Non-trainable params: 0\n",
              "Total mult-adds (M): 1.66\n",
              "==========================================================================================\n",
              "Input size (MB): 0.00\n",
              "Forward/backward pass size (MB): 0.21\n",
              "Params size (MB): 0.04\n",
              "Estimated Total Size (MB): 0.26\n",
              "=========================================================================================="
            ]
          },
          "execution_count": 29,
          "metadata": {},
          "output_type": "execute_result"
        }
      ],
      "source": [
        "summary(model, (1, 1, 33, 33))"
      ]
    },
    {
      "cell_type": "code",
      "execution_count": null,
      "metadata": {
        "id": "ZVR02-EQ9B0g"
      },
      "outputs": [],
      "source": [
        "class PermutationModel(torch.nn.Module):\n",
        "    def __init__(self, model,device):\n",
        "        super().__init__()\n",
        "        self.model = model\n",
        "        self.device = device\n",
        "\n",
        "        self.perm_1, self.perm_2 = self.matrix_perm()\n",
        "        self.perm_1 = nn.Parameter(self.perm_1, requires_grad=True)\n",
        "        self.perm_2 = nn.Parameter(self.perm_2, requires_grad=True)\n",
        "\n",
        "        self.relu = torch.nn.ReLU()\n",
        "\n",
        "    def matrix_perm(self):\n",
        "        p_1 = np.random.permutation(33*33)\n",
        "        p_1 = F.gumbel_softmax(torch.tensor(p_1, dtype=torch.float32, device=self.device), hard=True)\n",
        "        p_2 = np.random.permutation(33*33)\n",
        "        p_2 = F.gumbel_softmax(torch.tensor(p_2, dtype=torch.float32, device=self.device), hard=True)\n",
        "\n",
        "        return p_1.reshape(33,33), p_2.reshape(33,33)\n",
        "\n",
        "    def forward(self, x):\n",
        "        x = self.perm_1.unsqueeze(dim=0).unsqueeze(dim=0) @ x @ self.perm_2.unsqueeze(dim=0).unsqueeze(dim=0)\n",
        "        x = self.model(x)\n",
        "        return x\n"
      ]
    },
    {
      "cell_type": "code",
      "execution_count": null,
      "metadata": {
        "colab": {
          "base_uri": "https://localhost:8080/"
        },
        "id": "esVi2uh6B9jf",
        "outputId": "a2ed987a-70ba-4630-c9dd-8111feae5bd4"
      },
      "outputs": [
        {
          "data": {
            "text/plain": [
              "==========================================================================================\n",
              "Layer (type:depth-idx)                   Output Shape              Param #\n",
              "==========================================================================================\n",
              "PermutationModel                         [1, 10]                   2,178\n",
              "├─NormalNetwork: 1-1                     [1, 10]                   32\n",
              "│    └─Conv2d: 2-1                       [1, 16, 33, 33]           160\n",
              "│    └─MaxPool2d: 2-2                    [1, 16, 16, 16]           --\n",
              "│    └─Conv2d: 2-3                       [1, 32, 16, 16]           4,640\n",
              "│    └─MaxPool2d: 2-4                    [1, 32, 8, 8]             --\n",
              "│    └─Conv2d: 2-5                       [1, 16, 8, 8]             4,624\n",
              "│    └─AdaptiveAvgPool2d: 2-6            [1, 16, 1, 1]             --\n",
              "│    └─Linear: 2-7                       [1, 10]                   170\n",
              "==========================================================================================\n",
              "Total params: 11,804\n",
              "Trainable params: 11,804\n",
              "Non-trainable params: 0\n",
              "Total mult-adds (M): 1.66\n",
              "==========================================================================================\n",
              "Input size (MB): 0.00\n",
              "Forward/backward pass size (MB): 0.21\n",
              "Params size (MB): 0.04\n",
              "Estimated Total Size (MB): 0.26\n",
              "=========================================================================================="
            ]
          },
          "execution_count": 94,
          "metadata": {},
          "output_type": "execute_result"
        }
      ],
      "source": [
        "model = PermutationModel(model,device)\n",
        "model.to(device)\n",
        "summary(model, (1, 1, 33, 33))"
      ]
    },
    {
      "cell_type": "code",
      "execution_count": null,
      "metadata": {
        "id": "lcLVgNb29B0h"
      },
      "outputs": [],
      "source": [
        "# Define the loss\n",
        "criterion = nn.CrossEntropyLoss()\n",
        "optimizer = torch.optim.Adam(model.parameters(), lr=0.001)"
      ]
    },
    {
      "cell_type": "code",
      "execution_count": null,
      "metadata": {
        "colab": {
          "base_uri": "https://localhost:8080/"
        },
        "id": "nk01JOvu9B0h",
        "outputId": "f04c6461-eb45-4d7a-f11b-27e542a03fe4"
      },
      "outputs": [
        {
          "name": "stdout",
          "output_type": "stream",
          "text": [
            "Epoch 1/30 Test Loss: 6.754 Test Acc: 0.116, Train Loss: 1.136 Train Acc: 0.560\n",
            "Epoch 2/30 Test Loss: 6.254 Test Acc: 0.117, Train Loss: 0.611 Train Acc: 0.780\n",
            "Epoch 3/30 Test Loss: 5.847 Test Acc: 0.130, Train Loss: 0.539 Train Acc: 0.806\n",
            "Epoch 4/30 Test Loss: 5.462 Test Acc: 0.144, Train Loss: 0.492 Train Acc: 0.824\n",
            "Epoch 5/30 Test Loss: 5.673 Test Acc: 0.152, Train Loss: 0.465 Train Acc: 0.832\n",
            "Epoch 6/30 Test Loss: 5.268 Test Acc: 0.153, Train Loss: 0.444 Train Acc: 0.840\n",
            "Epoch 7/30 Test Loss: 5.202 Test Acc: 0.113, Train Loss: 0.429 Train Acc: 0.845\n",
            "Epoch 8/30 Test Loss: 6.205 Test Acc: 0.142, Train Loss: 0.418 Train Acc: 0.849\n",
            "Epoch 9/30 Test Loss: 6.011 Test Acc: 0.107, Train Loss: 0.404 Train Acc: 0.854\n",
            "Epoch 10/30 Test Loss: 5.681 Test Acc: 0.105, Train Loss: 0.396 Train Acc: 0.855\n",
            "Epoch 11/30 Test Loss: 6.579 Test Acc: 0.115, Train Loss: 0.387 Train Acc: 0.860\n",
            "Epoch 12/30 Test Loss: 5.961 Test Acc: 0.101, Train Loss: 0.378 Train Acc: 0.862\n",
            "Epoch 13/30 Test Loss: 6.106 Test Acc: 0.084, Train Loss: 0.373 Train Acc: 0.864\n",
            "Epoch 14/30 Test Loss: 6.602 Test Acc: 0.090, Train Loss: 0.369 Train Acc: 0.864\n",
            "Epoch 15/30 Test Loss: 6.250 Test Acc: 0.093, Train Loss: 0.364 Train Acc: 0.867\n",
            "Epoch 16/30 Test Loss: 6.148 Test Acc: 0.103, Train Loss: 0.359 Train Acc: 0.868\n",
            "Epoch 17/30 Test Loss: 6.102 Test Acc: 0.111, Train Loss: 0.355 Train Acc: 0.870\n",
            "Epoch 18/30 Test Loss: 6.548 Test Acc: 0.093, Train Loss: 0.353 Train Acc: 0.870\n",
            "Epoch 19/30 Test Loss: 6.801 Test Acc: 0.101, Train Loss: 0.350 Train Acc: 0.873\n",
            "Epoch 20/30 Test Loss: 6.504 Test Acc: 0.114, Train Loss: 0.345 Train Acc: 0.873\n",
            "Epoch 21/30 Test Loss: 7.094 Test Acc: 0.127, Train Loss: 0.342 Train Acc: 0.874\n",
            "Epoch 22/30 Test Loss: 6.914 Test Acc: 0.092, Train Loss: 0.339 Train Acc: 0.875\n",
            "Epoch 23/30 Test Loss: 7.663 Test Acc: 0.108, Train Loss: 0.335 Train Acc: 0.876\n",
            "Epoch 24/30 Test Loss: 7.800 Test Acc: 0.089, Train Loss: 0.336 Train Acc: 0.876\n",
            "Epoch 25/30 Test Loss: 7.704 Test Acc: 0.093, Train Loss: 0.331 Train Acc: 0.878\n",
            "Epoch 26/30 Test Loss: 7.884 Test Acc: 0.110, Train Loss: 0.327 Train Acc: 0.879\n",
            "Epoch 27/30 Test Loss: 7.101 Test Acc: 0.107, Train Loss: 0.325 Train Acc: 0.880\n",
            "Epoch 28/30 Test Loss: 7.498 Test Acc: 0.110, Train Loss: 0.324 Train Acc: 0.882\n",
            "Epoch 29/30 Test Loss: 7.208 Test Acc: 0.119, Train Loss: 0.320 Train Acc: 0.883\n",
            "Epoch 30/30 Test Loss: 7.260 Test Acc: 0.110, Train Loss: 0.317 Train Acc: 0.884\n"
          ]
        }
      ],
      "source": [
        "# Train the network\n",
        "epochs = 30\n",
        "\n",
        "trainLoss = torch.zeros(epochs)\n",
        "testLoss  = torch.zeros(epochs)\n",
        "trainAcc  = torch.zeros(epochs)\n",
        "testAcc   = torch.zeros(epochs)\n",
        "\n",
        "for e in range(epochs):\n",
        "    model.train()\n",
        "\n",
        "    batchLoss = []\n",
        "    batchAcc  = []\n",
        "\n",
        "    for images, labels in train_loader:\n",
        "\n",
        "        optimizer.zero_grad()\n",
        "\n",
        "        images = images.to(device)\n",
        "        labels = labels.to(device)\n",
        "\n",
        "        output = model(images)\n",
        "\n",
        "        loss = criterion(output, labels)\n",
        "        loss.backward()\n",
        "        optimizer.step()\n",
        "\n",
        "        batchLoss.append(loss.item())\n",
        "        batchAcc.append( (output.argmax(dim=1) == labels).type(torch.float).mean() )\n",
        "\n",
        "    trainLoss[e] = torch.tensor(batchLoss).mean()\n",
        "    trainAcc[e]  = torch.tensor(batchAcc).mean()\n",
        "\n",
        "    model.eval()\n",
        "    batchLoss = []\n",
        "    batchAcc  = []\n",
        "\n",
        "    with torch.no_grad():\n",
        "        for images, labels in test_loader:\n",
        "            images = images.to(device) #test.desordenar(images).to(device)\n",
        "            labels = labels.to(device)\n",
        "            output = model(images)\n",
        "            loss = criterion(output, labels)\n",
        "            batchLoss.append(loss.item())\n",
        "            batchAcc.append((output.argmax(dim=1) == labels).type(torch.float).mean())\n",
        "\n",
        "    testLoss[e] = torch.tensor(batchLoss).mean()\n",
        "    testAcc[e]  = torch.tensor(batchAcc).mean()\n",
        "\n",
        "    print(f\"Epoch {e+1}/{epochs} Test Loss: {testLoss[e]:.3f} Test Acc: {testAcc[e]:.3f}, Train Loss: {trainLoss[e]:.3f} Train Acc: {trainAcc[e]:.3f}\")\n",
        "\n"
      ]
    },
    {
      "cell_type": "code",
      "execution_count": null,
      "metadata": {
        "colab": {
          "base_uri": "https://localhost:8080/",
          "height": 448
        },
        "id": "s-vnU_wUFiat",
        "outputId": "1ed8fff0-da32-47dd-a64f-36b42abcc5d5"
      },
      "outputs": [
        {
          "data": {
            "text/plain": [
              "<matplotlib.image.AxesImage at 0x7f0889b875e0>"
            ]
          },
          "execution_count": 97,
          "metadata": {},
          "output_type": "execute_result"
        },
        {
          "data": {
            "image/png": "[encoded data removed]",
            "text/plain": [
              "<Figure size 640x480 with 1 Axes>"
            ]
          },
          "metadata": {},
          "output_type": "display_data"
        }
      ],
      "source": [
        "plt.imshow((model.perm_1 @ b[0,:,:,:].squeeze()  @ model.perm_2).detach())"
      ]
    }
  ],
  "metadata": {
    "colab": {
      "provenance": []
    },
    "kernelspec": {
      "display_name": "Python 3",
      "language": "python",
      "name": "python3"
    },
    "language_info": {
      "codemirror_mode": {
        "name": "ipython",
        "version": 3
      },
      "file_extension": ".py",
      "mimetype": "text/x-python",
      "name": "python",
      "nbconvert_exporter": "python",
      "pygments_lexer": "ipython3",
      "version": "3.9.0"
    },
    "orig_nbformat": 4
  },
  "nbformat": 4,
  "nbformat_minor": 0
}
